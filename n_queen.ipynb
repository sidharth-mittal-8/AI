def n_queens(n, positions):
    def is_valid(board, row, col):
        # Check if there is a queen in the same column
        for i in range(row):
            if board[i] == col:
                return False

        # Check diagonal left-up
        for i, j in zip(range(row, -1, -1), range(col, -1, -1)):
            if board[i] == j:
                return False

        # Check diagonal right-up
        for i, j in zip(range(row, -1, -1), range(col, n)):
            if board[i] == j:
                return False

        return True

    def solve_n_queens_helper(board, row):
        if row == n:
            return True

        for col in range(n):
            if is_valid(board, row, col):
                board[row] = col
                if solve_n_queens_helper(board, row + 1):
                    return True
                board[row] = -1

        return False

    board = [-1 for _ in range(n)]
    for i in range(n):
        board[i] = positions[i] - 1

    if solve_n_queens_helper(board, 0):
        return board
    else:
        return []


def print_board(board):
    n = len(board)
    for i in range(n):
        row = ["*" if j == board[i] else "_" for j in range(n)]
        print(" ".join(row))


def main():
    with open("input.txt") as f:
        n = int(f.readline())
        positions = list(map(int, f.readline().split()))

    board = n_queens(n, positions)
    print_board(board)


if __name__ == "__main__":
    main()
